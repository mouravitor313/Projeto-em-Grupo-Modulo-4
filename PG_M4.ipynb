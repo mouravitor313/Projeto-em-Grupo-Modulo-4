{
  "nbformat": 4,
  "nbformat_minor": 0,
  "metadata": {
    "colab": {
      "provenance": [],
      "toc_visible": true,
      "include_colab_link": true
    },
    "kernelspec": {
      "name": "python3",
      "display_name": "Python 3"
    },
    "language_info": {
      "name": "python"
    }
  },
  "cells": [
    {
      "cell_type": "markdown",
      "metadata": {
        "id": "view-in-github",
        "colab_type": "text"
      },
      "source": [
        "<a href=\"https://colab.research.google.com/github/mouravitor313/Projeto-em-Grupo-Modulo-4/blob/main/PG_M4.ipynb\" target=\"_parent\"><img src=\"https://colab.research.google.com/assets/colab-badge.svg\" alt=\"Open In Colab\"/></a>"
      ]
    },
    {
      "cell_type": "markdown",
      "source": [
        "# Dados para Abastecer o Carro\n",
        "---\n",
        "- SENAC/RESILIA - Formação em Análise de Dados (FAD)            \n",
        "- Projeto em Grupo - Módulo 4                 \n",
        "- !/usr/bin/env python3 - versão = '3.11(64-bit)' \n",
        "- (-*- coding:utf-8-*-)                                        \n",
        "- Criado por: Douglas Klem Portugal do Amaral, Lorhan da Silva Costa e Vítor Hugo Almeida de Moura                   \n",
        "- Data de criação: 07/05/2023                                  \n",
        "---"
      ],
      "metadata": {
        "id": "vEg74b36nGhE"
      }
    },
    {
      "cell_type": "code",
      "source": [
        "import pandas as pd\n",
        "import numpy as np\n",
        "import matplotlib\n",
        "import matplotlib.pyplot as plt"
      ],
      "metadata": {
        "id": "pYyxrszuoWi3"
      },
      "execution_count": null,
      "outputs": []
    },
    {
      "cell_type": "markdown",
      "source": [
        "#Contexto\n",
        "___\n",
        "\n",
        "inserir texto resilia"
      ],
      "metadata": {
        "id": "8m003n3hszzi"
      }
    },
    {
      "cell_type": "markdown",
      "source": [
        "#Limpeza dos Dados\n",
        "---\n",
        "código extraindo o q vamos usa do database"
      ],
      "metadata": {
        "id": "-JXNYHLstBVe"
      }
    },
    {
      "cell_type": "markdown",
      "source": [
        "#Análise Exploratória\n",
        "---\n",
        "\n",
        "botar todas as perguntas aqui"
      ],
      "metadata": {
        "id": "KoNeh4vFtNHp"
      }
    },
    {
      "cell_type": "markdown",
      "source": [
        "## 1. *Insights* Iniciais"
      ],
      "metadata": {
        "id": "2BpAlR48tWWU"
      }
    },
    {
      "cell_type": "markdown",
      "source": [
        "## 1.1. Questionamentos:"
      ],
      "metadata": {
        "id": "eMzdEp5RuaLt"
      }
    },
    {
      "cell_type": "markdown",
      "source": [
        "## 1.2. Livecoding:"
      ],
      "metadata": {
        "id": "t4zYLskHunTQ"
      }
    },
    {
      "cell_type": "markdown",
      "source": [
        "## 1.3. Gráficos:"
      ],
      "metadata": {
        "id": "itABbRS_us0s"
      }
    },
    {
      "cell_type": "markdown",
      "source": [
        "## 2. *Insights* Estratégicos\n"
      ],
      "metadata": {
        "id": "yrRz2eTVthnR"
      }
    },
    {
      "cell_type": "markdown",
      "source": [
        "## 2.1. Questionamentos:"
      ],
      "metadata": {
        "id": "n3lgXjt0vqGm"
      }
    },
    {
      "cell_type": "markdown",
      "source": [
        "## 2.2. Livecoding:"
      ],
      "metadata": {
        "id": "yWqD0lO0v93K"
      }
    },
    {
      "cell_type": "markdown",
      "source": [
        "## 2.3. Gráficos:"
      ],
      "metadata": {
        "id": "QeyYmHicwCPy"
      }
    },
    {
      "cell_type": "markdown",
      "source": [
        "#Considerações Finais\n",
        "---"
      ],
      "metadata": {
        "id": "lxOgUGrOxcop"
      }
    }
  ]
}
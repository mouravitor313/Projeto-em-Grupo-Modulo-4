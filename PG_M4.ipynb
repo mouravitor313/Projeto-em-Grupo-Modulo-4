{
  "nbformat": 4,
  "nbformat_minor": 0,
  "metadata": {
    "colab": {
      "provenance": [],
      "toc_visible": true,
      "include_colab_link": true
    },
    "kernelspec": {
      "name": "python3",
      "display_name": "Python 3"
    },
    "language_info": {
      "name": "python"
    }
  },
  "cells": [
    {
      "cell_type": "markdown",
      "metadata": {
        "id": "view-in-github",
        "colab_type": "text"
      },
      "source": [
        "<a href=\"https://colab.research.google.com/github/mouravitor313/Projeto-em-Grupo-Modulo-4/blob/main/PG_M4.ipynb\" target=\"_parent\"><img src=\"https://colab.research.google.com/assets/colab-badge.svg\" alt=\"Open In Colab\"/></a>"
      ]
    },
    {
      "cell_type": "markdown",
      "source": [
        "#Projeto em Grupo do Módulo 4 do curso de Análise de Dados - Resilia | SENAC"
      ],
      "metadata": {
        "id": "vEg74b36nGhE"
      }
    },
    {
      "cell_type": "code",
      "source": [
        "import pandas as pd\n",
        "import numpy as np\n",
        "import matplotlib\n",
        "import matplotlib.pyplot as plt"
      ],
      "metadata": {
        "id": "pYyxrszuoWi3"
      },
      "execution_count": null,
      "outputs": []
    },
    {
      "cell_type": "code",
      "execution_count": null,
      "metadata": {
        "id": "2a3i4uldmCsS",
        "colab": {
          "base_uri": "https://localhost:8080/"
        },
        "outputId": "49b26ed7-bdd8-476b-dac9-07798486973a"
      },
      "outputs": [
        {
          "output_type": "stream",
          "name": "stdout",
          "text": [
            "eae meu chapa\n"
          ]
        }
      ],
      "source": [
        "print('eae meu chapa')"
      ]
    }
  ]
}